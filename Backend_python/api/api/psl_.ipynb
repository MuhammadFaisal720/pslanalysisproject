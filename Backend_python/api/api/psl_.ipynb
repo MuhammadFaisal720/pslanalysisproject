{
  "nbformat": 4,
  "nbformat_minor": 0,
  "metadata": {
    "kernelspec": {
      "display_name": "Python 3",
      "language": "python",
      "name": "python3"
    },
    "language_info": {
      "codemirror_mode": {
        "name": "ipython",
        "version": 3
      },
      "file_extension": ".py",
      "mimetype": "text/x-python",
      "name": "python",
      "nbconvert_exporter": "python",
      "pygments_lexer": "ipython3",
      "version": "3.7.0"
    },
    "colab": {
      "name": "psl_.ipynb",
      "provenance": [],
      "toc_visible": true
    }
  },
  "cells": [
    {
      "cell_type": "markdown",
      "metadata": {
        "id": "JBlkACwcbQ5k"
      },
      "source": [
        "<b>Objective:</b>Explore IPL Dataset to see which Team has won maximum IPL and which Player has got most of the player of the match."
      ]
    },
    {
      "cell_type": "markdown",
      "metadata": {
        "id": "DKNanICibQ5s"
      },
      "source": [
        "Dataset: https://www.kaggle.com/manasgarg/ipl<br>"
      ]
    },
    {
      "cell_type": "markdown",
      "metadata": {
        "id": "mRe4OpPNbQ5t"
      },
      "source": [
        "# Loading Libraries"
      ]
    },
    {
      "cell_type": "code",
      "metadata": {
        "id": "8Kr2ixdebQ5t"
      },
      "source": [
        "import numpy as np # Numerical analysis\n",
        "import pandas as pd # Data Processing\n",
        "import matplotlib.pyplot as plt  # Visualization\n",
        "%matplotlib inline\n",
        "import seaborn as sns  # Modern Visualization\n",
        "import os"
      ],
      "execution_count": null,
      "outputs": []
    },
    {
      "cell_type": "markdown",
      "metadata": {
        "id": "H-hgGiTHbQ5u"
      },
      "source": [
        "<b>Changing Directory</b>"
      ]
    },
    {
      "cell_type": "code",
      "metadata": {
        "id": "nUmE3i22bQ5u"
      },
      "source": [
        "#os.chdir(\"D:/Project/ipl\")"
      ],
      "execution_count": null,
      "outputs": []
    },
    {
      "cell_type": "markdown",
      "metadata": {
        "id": "eMkgYy9SbQ5v"
      },
      "source": [
        "<b>Reading the dataset</b>"
      ]
    },
    {
      "cell_type": "code",
      "metadata": {
        "id": "EVa9P5wGbQ5v"
      },
      "source": [
        "match= pd.read_csv(\"matches.csv\")"
      ],
      "execution_count": null,
      "outputs": []
    },
    {
      "cell_type": "markdown",
      "metadata": {
        "id": "gteSCkuibQ5v"
      },
      "source": [
        "<b>Getting the Basic Information about Data</b>"
      ]
    },
    {
      "cell_type": "code",
      "metadata": {
        "colab": {
          "base_uri": "https://localhost:8080/"
        },
        "id": "jajvS6O9bQ5v",
        "outputId": "7fb14daa-a8fc-42e9-b61a-f7e9bba682f6"
      },
      "source": [
        "match.shape"
      ],
      "execution_count": null,
      "outputs": [
        {
          "output_type": "execute_result",
          "data": {
            "text/plain": [
              "(180, 18)"
            ]
          },
          "metadata": {
            "tags": []
          },
          "execution_count": 116
        }
      ]
    },
    {
      "cell_type": "markdown",
      "metadata": {
        "id": "NCVSqqhGbQ5x"
      },
      "source": [
        "<b>Observation:</b> \n",
        "    Got dimension(rows and columns) of the dataset using method shape. The match variable has 636 rows and 18 columns. "
      ]
    },
    {
      "cell_type": "code",
      "metadata": {
        "colab": {
          "base_uri": "https://localhost:8080/"
        },
        "id": "saJCRTlJbQ5x",
        "outputId": "ba3a9a31-eb6a-40ab-ae3f-e0b5fc0a6ad8"
      },
      "source": [
        "match.columns"
      ],
      "execution_count": null,
      "outputs": [
        {
          "output_type": "execute_result",
          "data": {
            "text/plain": [
              "Index(['id', 'season', 'city', 'date', 'team1', 'team2', 'toss_winner',\n",
              "       'toss_decision', 'result', 'dl_applied', 'winner', 'win_by_runs',\n",
              "       'win_by_wickets', 'player_of_match', 'venue', 'umpire1', 'umpire2',\n",
              "       'umpire3'],\n",
              "      dtype='object')"
            ]
          },
          "metadata": {
            "tags": []
          },
          "execution_count": 117
        }
      ]
    },
    {
      "cell_type": "code",
      "metadata": {
        "colab": {
          "base_uri": "https://localhost:8080/",
          "height": 191
        },
        "id": "otZhDqsGbQ5y",
        "outputId": "f973cf8d-21f0-4a29-fb75-eeb45265c920"
      },
      "source": [
        "match.head()"
      ],
      "execution_count": null,
      "outputs": [
        {
          "output_type": "execute_result",
          "data": {
            "text/html": [
              "<div>\n",
              "<style scoped>\n",
              "    .dataframe tbody tr th:only-of-type {\n",
              "        vertical-align: middle;\n",
              "    }\n",
              "\n",
              "    .dataframe tbody tr th {\n",
              "        vertical-align: top;\n",
              "    }\n",
              "\n",
              "    .dataframe thead th {\n",
              "        text-align: right;\n",
              "    }\n",
              "</style>\n",
              "<table border=\"1\" class=\"dataframe\">\n",
              "  <thead>\n",
              "    <tr style=\"text-align: right;\">\n",
              "      <th></th>\n",
              "      <th>id</th>\n",
              "      <th>season</th>\n",
              "      <th>city</th>\n",
              "      <th>date</th>\n",
              "      <th>team1</th>\n",
              "      <th>team2</th>\n",
              "      <th>toss_winner</th>\n",
              "      <th>toss_decision</th>\n",
              "      <th>result</th>\n",
              "      <th>dl_applied</th>\n",
              "      <th>winner</th>\n",
              "      <th>win_by_runs</th>\n",
              "      <th>win_by_wickets</th>\n",
              "      <th>player_of_match</th>\n",
              "      <th>venue</th>\n",
              "      <th>umpire1</th>\n",
              "      <th>umpire2</th>\n",
              "      <th>umpire3</th>\n",
              "    </tr>\n",
              "  </thead>\n",
              "  <tbody>\n",
              "    <tr>\n",
              "      <th>0</th>\n",
              "      <td>403</td>\n",
              "      <td>2013</td>\n",
              "      <td>Peshawar</td>\n",
              "      <td>4/17/2013</td>\n",
              "      <td>Islamabad United</td>\n",
              "      <td>Karachi Kings</td>\n",
              "      <td>Islamabad United</td>\n",
              "      <td>bat</td>\n",
              "      <td>normal</td>\n",
              "      <td>0</td>\n",
              "      <td>Islamabad United</td>\n",
              "      <td>87</td>\n",
              "      <td>0</td>\n",
              "      <td>Lewis Gregory</td>\n",
              "      <td>Arbab Niaz Stadium , Peshawar</td>\n",
              "      <td>Aleem Dar</td>\n",
              "      <td>C Shamshuddin</td>\n",
              "      <td>NaN</td>\n",
              "    </tr>\n",
              "    <tr>\n",
              "      <th>1</th>\n",
              "      <td>78</td>\n",
              "      <td>2008</td>\n",
              "      <td>Peshawar</td>\n",
              "      <td>5/1/2008</td>\n",
              "      <td>Islamabad United</td>\n",
              "      <td>Lahore Qalandars</td>\n",
              "      <td>Islamabad United</td>\n",
              "      <td>bat</td>\n",
              "      <td>normal</td>\n",
              "      <td>0</td>\n",
              "      <td>Islamabad United</td>\n",
              "      <td>45</td>\n",
              "      <td>0</td>\n",
              "      <td>Lewis Gregory</td>\n",
              "      <td>Arbab Niaz Stadium , Peshawar</td>\n",
              "      <td>RE Koertzen</td>\n",
              "      <td>GA Pratapkumar</td>\n",
              "      <td>NaN</td>\n",
              "    </tr>\n",
              "    <tr>\n",
              "      <th>2</th>\n",
              "      <td>314</td>\n",
              "      <td>2012</td>\n",
              "      <td>Peshawar</td>\n",
              "      <td>4/8/2012</td>\n",
              "      <td>Islamabad United</td>\n",
              "      <td>Lahore Qalandars</td>\n",
              "      <td>Lahore Qalandars</td>\n",
              "      <td>field</td>\n",
              "      <td>normal</td>\n",
              "      <td>0</td>\n",
              "      <td>Islamabad United</td>\n",
              "      <td>22</td>\n",
              "      <td>0</td>\n",
              "      <td>Lewis Gregory</td>\n",
              "      <td>Arbab Niaz Stadium , Peshawar</td>\n",
              "      <td>BF Bowden</td>\n",
              "      <td>VA Kulkarni</td>\n",
              "      <td>NaN</td>\n",
              "    </tr>\n",
              "    <tr>\n",
              "      <th>3</th>\n",
              "      <td>389</td>\n",
              "      <td>2013</td>\n",
              "      <td>Peshawar</td>\n",
              "      <td>4/8/2013</td>\n",
              "      <td>Islamabad United</td>\n",
              "      <td>Lahore Qalandars</td>\n",
              "      <td>Lahore Qalandars</td>\n",
              "      <td>field</td>\n",
              "      <td>normal</td>\n",
              "      <td>0</td>\n",
              "      <td>Islamabad United</td>\n",
              "      <td>19</td>\n",
              "      <td>0</td>\n",
              "      <td>Lewis Gregory</td>\n",
              "      <td>Arbab Niaz Stadium , Peshawar</td>\n",
              "      <td>Aleem Dar</td>\n",
              "      <td>S Das</td>\n",
              "      <td>NaN</td>\n",
              "    </tr>\n",
              "    <tr>\n",
              "      <th>4</th>\n",
              "      <td>113</td>\n",
              "      <td>2008</td>\n",
              "      <td>Peshawar</td>\n",
              "      <td>5/26/2008</td>\n",
              "      <td>Karachi Kings</td>\n",
              "      <td>Islamabad United</td>\n",
              "      <td>Islamabad United</td>\n",
              "      <td>field</td>\n",
              "      <td>normal</td>\n",
              "      <td>0</td>\n",
              "      <td>Islamabad United</td>\n",
              "      <td>0</td>\n",
              "      <td>5</td>\n",
              "      <td>Lewis Gregory</td>\n",
              "      <td>Arbab Niaz Stadium , Peshawar</td>\n",
              "      <td>BF Bowden</td>\n",
              "      <td>K Hariharan</td>\n",
              "      <td>NaN</td>\n",
              "    </tr>\n",
              "  </tbody>\n",
              "</table>\n",
              "</div>"
            ],
            "text/plain": [
              "    id  season      city  ...      umpire1         umpire2 umpire3\n",
              "0  403    2013  Peshawar  ...    Aleem Dar   C Shamshuddin     NaN\n",
              "1   78    2008  Peshawar  ...  RE Koertzen  GA Pratapkumar     NaN\n",
              "2  314    2012  Peshawar  ...    BF Bowden     VA Kulkarni     NaN\n",
              "3  389    2013  Peshawar  ...    Aleem Dar           S Das     NaN\n",
              "4  113    2008  Peshawar  ...    BF Bowden     K Hariharan     NaN\n",
              "\n",
              "[5 rows x 18 columns]"
            ]
          },
          "metadata": {
            "tags": []
          },
          "execution_count": 118
        }
      ]
    },
    {
      "cell_type": "code",
      "metadata": {
        "colab": {
          "base_uri": "https://localhost:8080/"
        },
        "id": "TkKASfQobQ5y",
        "outputId": "2ae3c02f-90e2-46ad-b374-67730fac5da8"
      },
      "source": [
        "match.info()"
      ],
      "execution_count": null,
      "outputs": [
        {
          "output_type": "stream",
          "text": [
            "<class 'pandas.core.frame.DataFrame'>\n",
            "RangeIndex: 180 entries, 0 to 179\n",
            "Data columns (total 18 columns):\n",
            " #   Column           Non-Null Count  Dtype  \n",
            "---  ------           --------------  -----  \n",
            " 0   id               180 non-null    int64  \n",
            " 1   season           180 non-null    int64  \n",
            " 2   city             180 non-null    object \n",
            " 3   date             180 non-null    object \n",
            " 4   team1            180 non-null    object \n",
            " 5   team2            180 non-null    object \n",
            " 6   toss_winner      180 non-null    object \n",
            " 7   toss_decision    180 non-null    object \n",
            " 8   result           180 non-null    object \n",
            " 9   dl_applied       180 non-null    int64  \n",
            " 10  winner           180 non-null    object \n",
            " 11  win_by_runs      180 non-null    int64  \n",
            " 12  win_by_wickets   180 non-null    int64  \n",
            " 13  player_of_match  180 non-null    object \n",
            " 14  venue            180 non-null    object \n",
            " 15  umpire1          180 non-null    object \n",
            " 16  umpire2          180 non-null    object \n",
            " 17  umpire3          0 non-null      float64\n",
            "dtypes: float64(1), int64(5), object(12)\n",
            "memory usage: 25.4+ KB\n"
          ],
          "name": "stdout"
        }
      ]
    },
    {
      "cell_type": "markdown",
      "metadata": {
        "id": "IjjOr0RbbQ5y"
      },
      "source": [
        "<b>Observation:</b>\n",
        "    There are missing value in the column umpire3."
      ]
    },
    {
      "cell_type": "code",
      "metadata": {
        "colab": {
          "base_uri": "https://localhost:8080/"
        },
        "id": "zmod3F-ebQ5y",
        "outputId": "7af66118-3460-4a57-968e-04a90db7581c"
      },
      "source": [
        "match.season.unique()"
      ],
      "execution_count": null,
      "outputs": [
        {
          "output_type": "execute_result",
          "data": {
            "text/plain": [
              "array([2013, 2008, 2012, 2011, 2010, 2017, 2009, 2015, 2016, 2014])"
            ]
          },
          "metadata": {
            "tags": []
          },
          "execution_count": 120
        }
      ]
    },
    {
      "cell_type": "markdown",
      "metadata": {
        "id": "MPYOhKI1bQ5z"
      },
      "source": [
        "<b>Observation:</b>\n",
        "    The dataset has 10 seasons of IPL starting from 2008 to 2017."
      ]
    },
    {
      "cell_type": "code",
      "metadata": {
        "colab": {
          "base_uri": "https://localhost:8080/"
        },
        "id": "aGcnfIgybQ5z",
        "outputId": "3c3a6d5e-46dd-4fb7-bd00-8a5f1c8fbc3c"
      },
      "source": [
        "match.id.max()"
      ],
      "execution_count": null,
      "outputs": [
        {
          "output_type": "execute_result",
          "data": {
            "text/plain": [
              "634"
            ]
          },
          "metadata": {
            "tags": []
          },
          "execution_count": 121
        }
      ]
    },
    {
      "cell_type": "markdown",
      "metadata": {
        "id": "NwqkrFbGbQ5z"
      },
      "source": [
        "<b>Observation:</b>\n",
        "    There are 636 IPL Matches we got in our dataset."
      ]
    },
    {
      "cell_type": "code",
      "metadata": {
        "colab": {
          "base_uri": "https://localhost:8080/"
        },
        "id": "jIbr4DZebQ50",
        "outputId": "b8b61513-624b-402d-aaa6-7c0693387988"
      },
      "source": [
        "match.iloc[match['win_by_runs'].idxmax()]"
      ],
      "execution_count": null,
      "outputs": [
        {
          "output_type": "execute_result",
          "data": {
            "text/plain": [
              "id                                                132\n",
              "season                                           2009\n",
              "city                                       Faisalabad\n",
              "date                                        4/27/2009\n",
              "team1                                   Karachi Kings\n",
              "team2                                Lahore Qalandars\n",
              "toss_winner                             Karachi Kings\n",
              "toss_decision                                     bat\n",
              "result                                         normal\n",
              "dl_applied                                          0\n",
              "winner                                  Karachi Kings\n",
              "win_by_runs                                        92\n",
              "win_by_wickets                                      0\n",
              "player_of_match                            Babar Azam\n",
              "venue              Iqbal Cricket Stadium , Faisalabad\n",
              "umpire1                                    BG Jerling\n",
              "umpire2                                     RB Tiffin\n",
              "umpire3                                           NaN\n",
              "Name: 64, dtype: object"
            ]
          },
          "metadata": {
            "tags": []
          },
          "execution_count": 122
        }
      ]
    },
    {
      "cell_type": "code",
      "metadata": {
        "colab": {
          "base_uri": "https://localhost:8080/",
          "height": 35
        },
        "id": "dZVHVNccbQ50",
        "outputId": "6956f5c1-2436-4a38-d77a-a1ad1ffeb40d"
      },
      "source": [
        "match.iloc[match['win_by_runs'].idxmax()]['winner']"
      ],
      "execution_count": null,
      "outputs": [
        {
          "output_type": "execute_result",
          "data": {
            "application/vnd.google.colaboratory.intrinsic+json": {
              "type": "string"
            },
            "text/plain": [
              "'Karachi Kings'"
            ]
          },
          "metadata": {
            "tags": []
          },
          "execution_count": 123
        }
      ]
    },
    {
      "cell_type": "markdown",
      "metadata": {
        "id": "yNcTgEwZbQ50"
      },
      "source": [
        "<b>Observation:</b>\n",
        "<ul>\n",
        "    <li>idxmax will return the id of the maximum value and iloc that takes an index value and return the row.</li>\n",
        "    <li>From the dataset, in the Season 2017 the team who won was Mumbai Indians and win by runs was 146(which is highest among all seasons).</li>  \n",
        "   </ul> "
      ]
    },
    {
      "cell_type": "code",
      "metadata": {
        "colab": {
          "base_uri": "https://localhost:8080/"
        },
        "id": "75rJsN_ZbQ50",
        "outputId": "444c5f89-b8cb-41c7-a2a7-a5b65dad92bc"
      },
      "source": [
        "match.iloc[match['win_by_wickets'].idxmax()]"
      ],
      "execution_count": null,
      "outputs": [
        {
          "output_type": "execute_result",
          "data": {
            "text/plain": [
              "id                                           377\n",
              "season                                      2012\n",
              "city                                    Peshawar\n",
              "date                                   5/20/2012\n",
              "team1                           Islamabad United\n",
              "team2                              Karachi Kings\n",
              "toss_winner                     Islamabad United\n",
              "toss_decision                                bat\n",
              "result                                    normal\n",
              "dl_applied                                     0\n",
              "winner                             Karachi Kings\n",
              "win_by_runs                                    0\n",
              "win_by_wickets                                10\n",
              "player_of_match                       Babar Azam\n",
              "venue              Arbab Niaz Stadium , Peshawar\n",
              "umpire1                          HDPK Dharmasena\n",
              "umpire2                            C Shamshuddin\n",
              "umpire3                                      NaN\n",
              "Name: 11, dtype: object"
            ]
          },
          "metadata": {
            "tags": []
          },
          "execution_count": 124
        }
      ]
    },
    {
      "cell_type": "code",
      "metadata": {
        "colab": {
          "base_uri": "https://localhost:8080/",
          "height": 35
        },
        "id": "snaN5BdcbQ51",
        "outputId": "6ee4f77c-0d72-4c0b-baea-517400e99eb2"
      },
      "source": [
        "match.iloc[match['win_by_wickets'].idxmax()]['winner']"
      ],
      "execution_count": null,
      "outputs": [
        {
          "output_type": "execute_result",
          "data": {
            "application/vnd.google.colaboratory.intrinsic+json": {
              "type": "string"
            },
            "text/plain": [
              "'Karachi Kings'"
            ]
          },
          "metadata": {
            "tags": []
          },
          "execution_count": 125
        }
      ]
    },
    {
      "cell_type": "markdown",
      "metadata": {
        "id": "4U9z6VhnbQ51"
      },
      "source": [
        "<b>Observation:</b>\n",
        "<ul>\n",
        "    <li>idxmax will return the id of the maximum value and iloc that takes an index value and return the row.</li>\n",
        "    <li>From the dataset, in the Season 2017 the team who won was Kolkata Knight Riders and win by wickets was 10(which is highest among all seasons).</li>  \n",
        "   </ul> "
      ]
    },
    {
      "cell_type": "code",
      "metadata": {
        "colab": {
          "base_uri": "https://localhost:8080/",
          "height": 282
        },
        "id": "X-BtGvPFbQ51",
        "outputId": "7feb75f2-8b03-4e2b-d750-025257d84cac"
      },
      "source": [
        "sns.countplot(x=\"season\", data = match)\n",
        "plt.show()"
      ],
      "execution_count": null,
      "outputs": [
        {
          "output_type": "display_data",
          "data": {
            "image/png": "[encoded data removed]",
            "text/plain": [
              "<Figure size 432x288 with 1 Axes>"
            ]
          },
          "metadata": {
            "tags": [],
            "needs_background": "light"
          }
        }
      ]
    },
    {
      "cell_type": "code",
      "metadata": {
        "id": "VRJBVZdX5hOZ"
      },
      "source": [
        ""
      ],
      "execution_count": null,
      "outputs": []
    },
    {
      "cell_type": "code",
      "metadata": {
        "colab": {
          "base_uri": "https://localhost:8080/"
        },
        "id": "kebEQ82sbQ52",
        "outputId": "c61fabbe-6e12-4ae8-d3a9-01110553f53c"
      },
      "source": [
        "match.season.value_counts()"
      ],
      "execution_count": null,
      "outputs": [
        {
          "output_type": "execute_result",
          "data": {
            "text/plain": [
              "2013    24\n",
              "2010    22\n",
              "2015    21\n",
              "2014    21\n",
              "2012    21\n",
              "2008    21\n",
              "2009    18\n",
              "2011    17\n",
              "2017     8\n",
              "2016     7\n",
              "Name: season, dtype: int64"
            ]
          },
          "metadata": {
            "tags": []
          },
          "execution_count": 127
        }
      ]
    },
    {
      "cell_type": "markdown",
      "metadata": {
        "id": "vQtr-KyzbQ52"
      },
      "source": [
        "<b>Observation:</b>\n",
        "<ul>\n",
        "<li>In the Season 2013, there was most number of matches(i.e.76) played.</li> \n",
        "</ul>"
      ]
    },
    {
      "cell_type": "code",
      "metadata": {
        "colab": {
          "base_uri": "https://localhost:8080/",
          "height": 295
        },
        "id": "Y4Hgn3YLbQ52",
        "outputId": "682458e1-fa45-4858-a70d-b84962fffb3f"
      },
      "source": [
        "data= match.winner.value_counts()\n",
        "sns.barplot(y=data.index, x=data, orient=\"h\")"
      ],
      "execution_count": null,
      "outputs": [
        {
          "output_type": "execute_result",
          "data": {
            "text/plain": [
              "<matplotlib.axes._subplots.AxesSubplot at 0x7fcb24c5d210>"
            ]
          },
          "metadata": {
            "tags": []
          },
          "execution_count": 128
        },
        {
          "output_type": "display_data",
          "data": {
            "image/png": "[encoded data removed]",
            "text/plain": [
              "<Figure size 432x288 with 1 Axes>"
            ]
          },
          "metadata": {
            "tags": [],
            "needs_background": "light"
          }
        }
      ]
    },
    {
      "cell_type": "code",
      "metadata": {
        "colab": {
          "base_uri": "https://localhost:8080/"
        },
        "id": "zCq-sSsbbQ52",
        "outputId": "1e0ca7fd-796e-4df6-aa73-453d752681aa"
      },
      "source": [
        "match.winner.value_counts()"
      ],
      "execution_count": null,
      "outputs": [
        {
          "output_type": "execute_result",
          "data": {
            "text/plain": [
              "Karachi Kings       49\n",
              "Multan Sultan       41\n",
              "Lahore Qalandars    32\n",
              "Islamabad United    32\n",
              "Peshawar Zalmi      14\n",
              "Quetta Gladiator    12\n",
              "Name: winner, dtype: int64"
            ]
          },
          "metadata": {
            "tags": []
          },
          "execution_count": 129
        }
      ]
    },
    {
      "cell_type": "markdown",
      "metadata": {
        "id": "-SpC3U6bbQ53"
      },
      "source": [
        "<b>Observation:</b>\n",
        "<ul>\n",
        "<li>Among all the seasons from 2008 to 2017, Mumbai Indians has won maximum number of times.</li> \n",
        "</ul>"
      ]
    },
    {
      "cell_type": "code",
      "metadata": {
        "colab": {
          "base_uri": "https://localhost:8080/",
          "height": 265
        },
        "id": "4OlOX0YebQ53",
        "outputId": "e1c40a7a-c9c5-4980-d01c-a0d7e93c0ecf"
      },
      "source": [
        "top_players= match.player_of_match.value_counts()[:5]\n",
        "sns.barplot(x=top_players.index, y=top_players, orient='v')\n",
        "plt.show()"
      ],
      "execution_count": null,
      "outputs": [
        {
          "output_type": "display_data",
          "data": {
            "image/png": "[encoded data removed]",
            "text/plain": [
              "<Figure size 432x288 with 1 Axes>"
            ]
          },
          "metadata": {
            "tags": [],
            "needs_background": "light"
          }
        }
      ]
    },
    {
      "cell_type": "markdown",
      "metadata": {
        "id": "j51S0pCBbQ53"
      },
      "source": [
        "<b>Observation:</b>\n",
        "<ul>\n",
        "<li>Chris Gayle is the Player who has got maximum number of player of the month over the season from 2008-2017.</li>\n",
        "</ul>"
      ]
    },
    {
      "cell_type": "code",
      "metadata": {
        "colab": {
          "base_uri": "https://localhost:8080/"
        },
        "id": "FcCBNmfibQ54",
        "outputId": "1cbde9bd-f1e4-470a-ac4f-764bd4d74a53"
      },
      "source": [
        "Toss= match['toss_winner'] == match['winner']\n",
        "Toss.groupby(Toss).size()"
      ],
      "execution_count": null,
      "outputs": [
        {
          "output_type": "execute_result",
          "data": {
            "text/plain": [
              "False    90\n",
              "True     90\n",
              "dtype: int64"
            ]
          },
          "metadata": {
            "tags": []
          },
          "execution_count": 131
        }
      ]
    },
    {
      "cell_type": "code",
      "metadata": {
        "colab": {
          "base_uri": "https://localhost:8080/",
          "height": 317
        },
        "id": "wovsbgJZbQ54",
        "outputId": "3d95501e-16ac-4775-f92f-653f544a1713"
      },
      "source": [
        "sns.countplot(match[\"toss_winner\"] == match[\"winner\"])\n",
        "plt.show()"
      ],
      "execution_count": null,
      "outputs": [
        {
          "output_type": "stream",
          "text": [
            "/usr/local/lib/python3.7/dist-packages/seaborn/_decorators.py:43: FutureWarning: Pass the following variable as a keyword arg: x. From version 0.12, the only valid positional argument will be `data`, and passing other arguments without an explicit keyword will result in an error or misinterpretation.\n",
            "  FutureWarning\n"
          ],
          "name": "stderr"
        },
        {
          "output_type": "display_data",
          "data": {
            "image/png": "[encoded data removed]",
            "text/plain": [
              "<Figure size 432x288 with 1 Axes>"
            ]
          },
          "metadata": {
            "tags": [],
            "needs_background": "light"
          }
        }
      ]
    },
    {
      "cell_type": "markdown",
      "metadata": {
        "id": "yneO4rvubQ54"
      },
      "source": [
        "<b>Observation:</b>\n",
        "<ul>\n",
        "    <li>The team who won Toss also won the match</li>\n",
        "</ul>"
      ]
    },
    {
      "cell_type": "code",
      "metadata": {
        "colab": {
          "base_uri": "https://localhost:8080/",
          "height": 335
        },
        "id": "9KsGn-NVbQ55",
        "outputId": "b3f0c307-fd92-43dc-a498-33898dde3076"
      },
      "source": [
        "champ = match.drop_duplicates(subset=[\"season\"], keep= 'last')[[\"season\",\"winner\"]].reset_index(drop=True)\n",
        "champ.sort_values(by=[\"season\"])"
      ],
      "execution_count": null,
      "outputs": [
        {
          "output_type": "execute_result",
          "data": {
            "text/html": [
              "<div>\n",
              "<style scoped>\n",
              "    .dataframe tbody tr th:only-of-type {\n",
              "        vertical-align: middle;\n",
              "    }\n",
              "\n",
              "    .dataframe tbody tr th {\n",
              "        vertical-align: top;\n",
              "    }\n",
              "\n",
              "    .dataframe thead th {\n",
              "        text-align: right;\n",
              "    }\n",
              "</style>\n",
              "<table border=\"1\" class=\"dataframe\">\n",
              "  <thead>\n",
              "    <tr style=\"text-align: right;\">\n",
              "      <th></th>\n",
              "      <th>season</th>\n",
              "      <th>winner</th>\n",
              "    </tr>\n",
              "  </thead>\n",
              "  <tbody>\n",
              "    <tr>\n",
              "      <th>4</th>\n",
              "      <td>2008</td>\n",
              "      <td>Multan Sultan</td>\n",
              "    </tr>\n",
              "    <tr>\n",
              "      <th>0</th>\n",
              "      <td>2009</td>\n",
              "      <td>Quetta Gladiator</td>\n",
              "    </tr>\n",
              "    <tr>\n",
              "      <th>1</th>\n",
              "      <td>2010</td>\n",
              "      <td>Multan Sultan</td>\n",
              "    </tr>\n",
              "    <tr>\n",
              "      <th>2</th>\n",
              "      <td>2011</td>\n",
              "      <td>Lahore Qalandars</td>\n",
              "    </tr>\n",
              "    <tr>\n",
              "      <th>9</th>\n",
              "      <td>2012</td>\n",
              "      <td>Quetta Gladiator</td>\n",
              "    </tr>\n",
              "    <tr>\n",
              "      <th>6</th>\n",
              "      <td>2013</td>\n",
              "      <td>Peshawar Zalmi</td>\n",
              "    </tr>\n",
              "    <tr>\n",
              "      <th>3</th>\n",
              "      <td>2014</td>\n",
              "      <td>Lahore Qalandars</td>\n",
              "    </tr>\n",
              "    <tr>\n",
              "      <th>8</th>\n",
              "      <td>2015</td>\n",
              "      <td>Peshawar Zalmi</td>\n",
              "    </tr>\n",
              "    <tr>\n",
              "      <th>5</th>\n",
              "      <td>2016</td>\n",
              "      <td>Peshawar Zalmi</td>\n",
              "    </tr>\n",
              "    <tr>\n",
              "      <th>7</th>\n",
              "      <td>2017</td>\n",
              "      <td>Peshawar Zalmi</td>\n",
              "    </tr>\n",
              "  </tbody>\n",
              "</table>\n",
              "</div>"
            ],
            "text/plain": [
              "   season            winner\n",
              "4    2008     Multan Sultan\n",
              "0    2009  Quetta Gladiator\n",
              "1    2010     Multan Sultan\n",
              "2    2011  Lahore Qalandars\n",
              "9    2012  Quetta Gladiator\n",
              "6    2013    Peshawar Zalmi\n",
              "3    2014  Lahore Qalandars\n",
              "8    2015    Peshawar Zalmi\n",
              "5    2016    Peshawar Zalmi\n",
              "7    2017    Peshawar Zalmi"
            ]
          },
          "metadata": {
            "tags": []
          },
          "execution_count": 133
        }
      ]
    },
    {
      "cell_type": "code",
      "metadata": {
        "colab": {
          "base_uri": "https://localhost:8080/"
        },
        "id": "Ln-UMJSYbQ55",
        "outputId": "80c9af71-d6c2-4c8f-f93e-cd53e390cf4a"
      },
      "source": [
        "champ['winner'].value_counts()"
      ],
      "execution_count": null,
      "outputs": [
        {
          "output_type": "execute_result",
          "data": {
            "text/plain": [
              "Peshawar Zalmi      4\n",
              "Multan Sultan       2\n",
              "Quetta Gladiator    2\n",
              "Lahore Qalandars    2\n",
              "Name: winner, dtype: int64"
            ]
          },
          "metadata": {
            "tags": []
          },
          "execution_count": 134
        }
      ]
    },
    {
      "cell_type": "markdown",
      "metadata": {
        "id": "4fc4uJuobQ55"
      },
      "source": [
        "<b>Observation:</b>\n",
        "<ul>\n",
        "    <li>Mumbai Indian is the team who won maximum number of times in IPL and Chris Gayle is the Player who got most of the Player of the match.</li>\n",
        "</ul>"
      ]
    }
  ]
}